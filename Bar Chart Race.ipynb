{
 "cells": [
  {
   "cell_type": "markdown",
   "metadata": {},
   "source": [
    "To visualize the features of different categories we use bar chart which is a very simple way of presenting the features. But when we are having a lot of features in one category then a bar chart will not help. In this case, the Bar Chart Race will come into use. \n",
    "\n",
    "In this project, we will create an animated bar chart. A bar chart race helps in visualizing the change in features over time for each category."
   ]
  },
  {
   "cell_type": "markdown",
   "metadata": {},
   "source": [
    "For the task of creating an animated bar chart race, we will be using a GDP per capita forecast dataset provided by the OECD. "
   ]
  },
  {
   "cell_type": "code",
   "execution_count": 1,
   "metadata": {},
   "outputs": [],
   "source": [
    "import pandas as pd \n",
    "import numpy as np \n",
    "import matplotlib \n",
    "import matplotlib.pyplot as plt \n",
    "import matplotlib.ticker as ticker \n",
    "import matplotlib.animation as animation \n",
    "import matplotlib.colors as mc \n",
    "import colorsys \n",
    "from random import randint \n",
    "import re"
   ]
  },
  {
   "cell_type": "markdown",
   "metadata": {},
   "source": [
    "We only need GDP per Capita as a feature for this task:"
   ]
  },
  {
   "cell_type": "code",
   "execution_count": 2,
   "metadata": {},
   "outputs": [],
   "source": [
    "df = pd.read_csv(\"gdp per capita.csv\") \n",
    "df = df.loc[df['Variable'] == 'GDP per capita in USA 2005 PPPs'] "
   ]
  },
  {
   "cell_type": "code",
   "execution_count": 3,
   "metadata": {},
   "outputs": [],
   "source": [
    "df = df[((df.Country != 'OECD - Total') & (df.Country != 'Non-OECD Economies')\\\n",
    "         & (df.Country != 'World') & ( df.Country != 'Euro area (15 countries)'))] \n",
    "df = df[['Country', 'Time', 'Value']] "
   ]
  },
  {
   "cell_type": "code",
   "execution_count": 4,
   "metadata": {},
   "outputs": [],
   "source": [
    "df = df.pivot(index='Country', columns='Time', values='Value') \n",
    "df = df.reset_index()"
   ]
  },
  {
   "cell_type": "markdown",
   "metadata": {},
   "source": [
    "We will add a `^` to the name, so when we will display the unit of time, we can easily get rid of whatever is behind that particular character. \n",
    "\n",
    "When the last column of the data block is reached, the code generates an error because the `df.iloc` instruction cannot select a column (because it will be non-existent). Therefore, we will using a `try / except` statement:"
   ]
  },
  {
   "cell_type": "code",
   "execution_count": 6,
   "metadata": {},
   "outputs": [
    {
     "name": "stdout",
     "output_type": "stream",
     "text": [
      "\n",
      "  Interpolation No. 1 done...\n",
      "\n",
      "  Interpolation No. 2 done...\n",
      "\n",
      "  Interpolation No. 3 done...\n"
     ]
    }
   ],
   "source": [
    "for p in range(3):\n",
    "    i = 0\n",
    "    while i < len(df.columns): # while i &lt; len(df.columns):\n",
    "        try:\n",
    "            a = np.array(df.iloc[:, i + 1])\n",
    "            b = np.array(df.iloc[:, i + 2])\n",
    "            c = (a + b) / 2\n",
    "            df.insert(i + 2, str(df.iloc[:, i + 1].name) + '^' +\\\n",
    "                      str(len(df.columns)), c)\n",
    "        except:\n",
    "            print(f\"\\n  Interpolation No. {p + 1} done...\")\n",
    "        i += 2"
   ]
  },
  {
   "cell_type": "code",
   "execution_count": 7,
   "metadata": {},
   "outputs": [],
   "source": [
    "df = pd.melt(df, id_vars='Country', var_name='Time')"
   ]
  },
  {
   "cell_type": "code",
   "execution_count": 9,
   "metadata": {},
   "outputs": [
    {
     "data": {
      "text/html": [
       "<div>\n",
       "<style scoped>\n",
       "    .dataframe tbody tr th:only-of-type {\n",
       "        vertical-align: middle;\n",
       "    }\n",
       "\n",
       "    .dataframe tbody tr th {\n",
       "        vertical-align: top;\n",
       "    }\n",
       "\n",
       "    .dataframe thead th {\n",
       "        text-align: right;\n",
       "    }\n",
       "</style>\n",
       "<table border=\"1\" class=\"dataframe\">\n",
       "  <thead>\n",
       "    <tr style=\"text-align: right;\">\n",
       "      <th></th>\n",
       "      <th>Country</th>\n",
       "      <th>Time</th>\n",
       "      <th>value</th>\n",
       "    </tr>\n",
       "  </thead>\n",
       "  <tbody>\n",
       "    <tr>\n",
       "      <th>0</th>\n",
       "      <td>Australia</td>\n",
       "      <td>2010</td>\n",
       "      <td>35398.590665</td>\n",
       "    </tr>\n",
       "    <tr>\n",
       "      <th>1</th>\n",
       "      <td>Austria</td>\n",
       "      <td>2010</td>\n",
       "      <td>35273.436433</td>\n",
       "    </tr>\n",
       "    <tr>\n",
       "      <th>2</th>\n",
       "      <td>Belgium</td>\n",
       "      <td>2010</td>\n",
       "      <td>33010.373492</td>\n",
       "    </tr>\n",
       "    <tr>\n",
       "      <th>3</th>\n",
       "      <td>Brazil</td>\n",
       "      <td>2010</td>\n",
       "      <td>10092.706850</td>\n",
       "    </tr>\n",
       "    <tr>\n",
       "      <th>4</th>\n",
       "      <td>Canada</td>\n",
       "      <td>2010</td>\n",
       "      <td>36287.105162</td>\n",
       "    </tr>\n",
       "  </tbody>\n",
       "</table>\n",
       "</div>"
      ],
      "text/plain": [
       "     Country  Time         value\n",
       "0  Australia  2010  35398.590665\n",
       "1    Austria  2010  35273.436433\n",
       "2    Belgium  2010  33010.373492\n",
       "3     Brazil  2010  10092.706850\n",
       "4     Canada  2010  36287.105162"
      ]
     },
     "execution_count": 9,
     "metadata": {},
     "output_type": "execute_result"
    }
   ],
   "source": [
    "df.head()"
   ]
  },
  {
   "cell_type": "markdown",
   "metadata": {},
   "source": [
    "When creating animations with Matplotlib, we always need a list of all images, which will be passed to the main function which draws each image. Here we create this list of frames by taking all the unique values from the series **time_unit** and converting it to a list:"
   ]
  },
  {
   "cell_type": "code",
   "execution_count": 10,
   "metadata": {},
   "outputs": [],
   "source": [
    "frames_list = df[\"Time\"].unique().tolist()\n",
    "for i in range(10):\n",
    "    frames_list.append(df['Time'].iloc[-1])"
   ]
  },
  {
   "cell_type": "markdown",
   "metadata": {},
   "source": [
    "The following code assigns the colours of the bar graph. First of all, We are using a function which can turn any colour into a lighter / darker shade. It requires the **Colorsys** module that we imported at the beginning:"
   ]
  },
  {
   "cell_type": "code",
   "execution_count": 11,
   "metadata": {},
   "outputs": [],
   "source": [
    "def transform_color(color, amount=0.5):\n",
    "    try:\n",
    "        c = mc.cnames[color]\n",
    "    except:\n",
    "        c = color\n",
    "        c = colorsys.rgb_to_hls(*mc.to_rgb(c))\n",
    "    return colorsys.hls_to_rgb(c[0], 1 - amount * (1 - c[1]), c[2])"
   ]
  },
  {
   "cell_type": "code",
   "execution_count": 12,
   "metadata": {},
   "outputs": [],
   "source": [
    "all_names = df['Country'].unique().tolist()\n",
    "random_hex_colors = []\n",
    "\n",
    "for i in range(len(all_names)):\n",
    "    random_hex_colors.append('#' + '%06X' % randint(0, 0xFFFFFF))"
   ]
  },
  {
   "cell_type": "code",
   "execution_count": 13,
   "metadata": {},
   "outputs": [],
   "source": [
    "rgb_colors = [transform_color(i, 1) for i in random_hex_colors]\n",
    "rgb_colors_opacity = [rgb_colors[x] + (0.825,) for x in range(len(rgb_colors))]\n",
    "rgb_colors_dark = [transform_color(i, 1.12) for i in random_hex_colors]"
   ]
  },
  {
   "cell_type": "markdown",
   "metadata": {},
   "source": [
    "Now we are going to create a bar chart run in this particular time frame with the top elements using the correct colour from the **normal_colors** dictionary. \n",
    "\n",
    "In order to make the graph look nicer, we will draw a darker shade around each bar using the respective colour from the **dark_color** dictionary:"
   ]
  },
  {
   "cell_type": "code",
   "execution_count": 14,
   "metadata": {},
   "outputs": [
    {
     "data": {
      "image/png": "[encoded data removed]",
      "text/plain": [
       "<Figure size 1152x864 with 1 Axes>"
      ]
     },
     "metadata": {
      "needs_background": "light"
     },
     "output_type": "display_data"
    }
   ],
   "source": [
    "fig, ax = plt.subplots(figsize=(16, 12))\n",
    "\n",
    "num_of_elements = 8\n",
    "\n",
    "\n",
    "def draw_barchart(Time):\n",
    "    df_frame = df[df['Time'].eq(Time)].sort_values(by='value', ascending=True).tail(num_of_elements)\n",
    "    ax.clear()\n",
    "\n",
    "    normal_colors = dict(zip(df['Country'].unique(), rgb_colors_opacity))\n",
    "    dark_colors = dict(zip(df['Country'].unique(), rgb_colors_dark))\n",
    "\n",
    "    ax.barh(df_frame['Country'], df_frame['value'], color=[normal_colors[x] for x in df_frame['Country']], height=0.8,\n",
    "            edgecolor=([dark_colors[x] for x in df_frame['Country']]), linewidth='9')\n",
    "\n",
    "    dx = float(df_frame['value'].max()) / 200\n",
    "\n",
    "    for i, (value, name) in enumerate(zip(df_frame['value'], df_frame['Country'])):\n",
    "        ax.text(value + dx, i + (num_of_elements / 50), '    ' + name,\n",
    "                size=16, weight='bold', ha='left', va='center', fontdict={'fontname': 'Trebuchet MS'})\n",
    "        ax.text(value + dx, i - (num_of_elements / 50), f'    {value:,.0f}', size=15, ha='left', va='center')\n",
    "\n",
    "    time_unit_displayed = re.sub(r'\\^(.*)', r'', str(Time))\n",
    "    ax.text(1.0, 1.14, time_unit_displayed, transform=ax.transAxes, color='#666666',\n",
    "            size=15, ha='right', weight='bold', fontdict={'fontname': 'Trebuchet MS'})\n",
    "    ax.text(-0.005, 1.06, 'GDP/capita', transform=ax.transAxes, size=12, color='#666666')\n",
    "    ax.text(-0.005, 1.14, 'GDP Per capita from 2010 to 2060', transform=ax.transAxes,\n",
    "            size=15, weight='bold', ha='left', fontdict={'fontname': 'Trebuchet MS'})\n",
    "\n",
    "    ax.xaxis.set_major_formatter(ticker.StrMethodFormatter('{x:,.0f}'))\n",
    "    ax.xaxis.set_ticks_position('top')\n",
    "    ax.tick_params(axis='x', colors='#345555', labelsize=10)\n",
    "    ax.set_yticks([])\n",
    "    ax.set_axisbelow(True)\n",
    "    ax.margins(0, 0.01)\n",
    "    ax.grid(which='major', axis='x', linestyle='-')\n",
    "\n",
    "    plt.locator_params(axis='x', nbins=4)\n",
    "    plt.box(False)\n",
    "    plt.subplots_adjust(left=0.075, right=0.75, top=0.825, bottom=0.05, wspace=0.2, hspace=0.2)"
   ]
  },
  {
   "cell_type": "markdown",
   "metadata": {},
   "source": [
    "The last step in every Matplotlib animation is to call the **FuncAnimation** method to run the bar chart race:\n",
    "\n"
   ]
  },
  {
   "cell_type": "code",
   "execution_count": 15,
   "metadata": {},
   "outputs": [
    {
     "name": "stderr",
     "output_type": "stream",
     "text": [
      "MovieWriter imagemagick unavailable; trying to use <class 'matplotlib.animation.PillowWriter'> instead.\n"
     ]
    },
    {
     "data": {
      "image/png": "[encoded data removed]",
      "text/plain": [
       "<Figure size 432x288 with 1 Axes>"
      ]
     },
     "metadata": {
      "needs_background": "light"
     },
     "output_type": "display_data"
    }
   ],
   "source": [
    "animator = animation.FuncAnimation(fig, draw_barchart, frames=frames_list)\n",
    "animator.save('myAnimation.gif', writer='imagemagick', fps=30)\n",
    "plt.show()"
   ]
  },
  {
   "cell_type": "code",
   "execution_count": null,
   "metadata": {},
   "outputs": [],
   "source": []
  }
 ],
 "metadata": {
  "kernelspec": {
   "display_name": "Python 3",
   "language": "python",
   "name": "python3"
  },
  "language_info": {
   "codemirror_mode": {
    "name": "ipython",
    "version": 3
   },
   "file_extension": ".py",
   "mimetype": "text/x-python",
   "name": "python",
   "nbconvert_exporter": "python",
   "pygments_lexer": "ipython3",
   "version": "3.7.6"
  }
 },
 "nbformat": 4,
 "nbformat_minor": 4
}
